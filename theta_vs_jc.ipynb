{
 "cells": [
  {
   "cell_type": "code",
   "execution_count": 18,
   "metadata": {},
   "outputs": [],
   "source": [
    "import numpy as np\n",
    "import math\n",
    "import pandas as pd\n",
    "import matplotlib\n",
    "import matplotlib.pyplot as plt\n",
    "import itertools"
   ]
  },
  {
   "cell_type": "code",
   "execution_count": 2,
   "metadata": {},
   "outputs": [],
   "source": [
    "def deserialize_matrix(path):\n",
    "    with open(path, 'r') as f:\n",
    "        lines = f.readlines()\n",
    "        matrix = []\n",
    "        for l in lines:\n",
    "            l = l.strip()\n",
    "            l = l.replace(' ', '')\n",
    "            tokens = l.split(',')\n",
    "            row = [float(el) for el in tokens if el != \"\" and el != \" \"]\n",
    "            matrix.append(row)\n",
    "    return np.asarray(matrix)"
   ]
  },
  {
   "cell_type": "code",
   "execution_count": 3,
   "metadata": {},
   "outputs": [],
   "source": [
    "def deserialize_id_map(path):\n",
    "    with open(path, 'r') as f:\n",
    "        lines = f.readlines()\n",
    "        idmap = dict()\n",
    "        for l in lines:\n",
    "            tokens = l.split(\",\")\n",
    "            col_id = int(tokens[0])\n",
    "            col_name = tokens[1].strip()\n",
    "            idmap[col_id] = col_name\n",
    "    return idmap"
   ]
  },
  {
   "cell_type": "code",
   "execution_count": 4,
   "metadata": {},
   "outputs": [],
   "source": [
    "def name_pair(pair, idmap):\n",
    "    i, j = pair\n",
    "    return idmap[i] + \" ~ \" + idmap[j]"
   ]
  },
  {
   "cell_type": "code",
   "execution_count": 15,
   "metadata": {},
   "outputs": [],
   "source": [
    "def compute_theta(matrix):\n",
    "    theta_matrix = []\n",
    "    for row in matrix:\n",
    "        aggr_jc = sum(row)\n",
    "        total_d = len(row)\n",
    "        if aggr_jc > 0:\n",
    "            beta = math.log((total_d/aggr_jc))\n",
    "            theta_row = []\n",
    "            for jc in row:\n",
    "                theta = (jc * beta) / math.log(total_d)\n",
    "                theta_row.append(theta)\n",
    "        else:\n",
    "            theta_row = [0 for jc in row]\n",
    "        theta_matrix.append(theta_row)\n",
    "    return np.asarray(theta_matrix)"
   ]
  },
  {
   "cell_type": "code",
   "execution_count": 13,
   "metadata": {},
   "outputs": [],
   "source": [
    "ngrams = [2,3,4,5,6]\n",
    "input_matrices = []\n",
    "input_idmaps = []\n",
    "for n in ngrams:\n",
    "    input_matrix = \"temp/mit_matrix_n{}_k64.dat\".format(n)\n",
    "    input_idmap = \"temp/mit_matrix_n{}_k64.dat_nameMap\".format(n)\n",
    "    input_matrices.append(input_matrix)\n",
    "    input_idmaps.append(input_idmap)"
   ]
  },
  {
   "cell_type": "code",
   "execution_count": 23,
   "metadata": {
    "scrolled": true
   },
   "outputs": [],
   "source": [
    "jc_matrices = dict()\n",
    "th_matrices = dict()\n",
    "n_idmap = dict()\n",
    "for idx, path in enumerate(input_matrices):\n",
    "    jc_matrix = deserialize_matrix(path)\n",
    "    th_matrix = compute_theta(jc_matrix)\n",
    "    n = idx + 2\n",
    "    jc_matrices[n] = jc_matrix\n",
    "    th_matrices[n] = th_matrix\n",
    "    # idmap\n",
    "    im = deserialize_id_map(input_idmaps[idx])\n",
    "    n_idmap[n] = im"
   ]
  },
  {
   "cell_type": "markdown",
   "metadata": {},
   "source": [
    "## Plotting diff between theta and JC for different N"
   ]
  },
  {
   "cell_type": "code",
   "execution_count": 26,
   "metadata": {},
   "outputs": [],
   "source": [
    "def measure_diff(jc_matrix, theta_matrix):    \n",
    "    diffs = []\n",
    "    for i, j in itertools.product([x for x in range(jc_matrix.shape[0])], [x for x in range(jc_matrix.shape[0])]):\n",
    "        # ONLY COUNT NON-ZERO\n",
    "        if jc_matrix[i][j] > 0:\n",
    "            diff = jc_matrix[i][j] - theta_matrix[i][j]\n",
    "            diffs.append(diff)\n",
    "    diffs = np.asarray(diffs)\n",
    "    max_diff = np.max(diffs)\n",
    "    min_diff = np.min(diffs)\n",
    "    med_diff = np.percentile(diffs, 50)\n",
    "    p95_diff = np.percentile(diffs, 95)\n",
    "    p25_diff = np.percentile(diffs, 25)\n",
    "    p90_diff = np.percentile(diffs, 90)\n",
    "    p5_diff = np.percentile(diffs, 5)\n",
    "    p75_diff = np.percentile(diffs, 75)\n",
    "    p85_diff = np.percentile(diffs, 85)\n",
    "    avg_diff = np.average(diffs)\n",
    "    print(\"Max-diff: \" + str(max_diff))\n",
    "    print(\"min-diff: \" + str(min_diff))\n",
    "    print(\"avg: \" + str(avg_diff))\n",
    "    print(\"p5: \" + str(p5_diff))\n",
    "    print(\"p25: \" + str(p25_diff))\n",
    "    print(\"median: \" + str(med_diff))\n",
    "    print(\"p75: \" + str(p75_diff))\n",
    "    print(\"p85: \" + str(p85_diff))\n",
    "    print(\"p90: \" + str(p90_diff))\n",
    "    print(\"p95: \" + str(p95_diff))"
   ]
  },
  {
   "cell_type": "code",
   "execution_count": 27,
   "metadata": {},
   "outputs": [
    {
     "name": "stdout",
     "output_type": "stream",
     "text": [
      "N-GRAM: 2\n",
      "Max-diff: 0.8275879767398286\n",
      "min-diff: -0.0017266819891763596\n",
      "avg: 0.3231151660891969\n",
      "p5: 0.0757316684008584\n",
      "p25: 0.12624784194876765\n",
      "median: 0.26179260480984234\n",
      "p75: 0.4858193135266591\n",
      "p85: 0.6122401335965182\n",
      "p90: 0.6753463256387479\n",
      "p95: 0.7507212539236987\n",
      "N-GRAM: 3\n",
      "Max-diff: 0.5988990542841042\n",
      "min-diff: -0.0017266819891763596\n",
      "avg: 0.1628432051333763\n",
      "p5: 0.03613243547338996\n",
      "p25: 0.06808403616108256\n",
      "median: 0.11240318786214597\n",
      "p75: 0.22072367672027307\n",
      "p85: 0.3107261999837635\n",
      "p90: 0.37623199915516103\n",
      "p95: 0.4588343699957961\n",
      "N-GRAM: 4\n",
      "Max-diff: 0.5326875709936391\n",
      "min-diff: -0.0017266819891763596\n",
      "avg: 0.16903250284003465\n",
      "p5: 0.018783179415675345\n",
      "p25: 0.05947435900054751\n",
      "median: 0.12071941027349276\n",
      "p75: 0.25655024004934956\n",
      "p85: 0.34074562762618976\n",
      "p90: 0.39161224388744753\n",
      "p95: 0.4268199477966632\n",
      "N-GRAM: 5\n",
      "Max-diff: 0.5308315100588523\n",
      "min-diff: -0.0017266819891763596\n",
      "avg: 0.2055155544435756\n",
      "p5: 0.007287740368301508\n",
      "p25: 0.058413067290561546\n",
      "median: 0.15924945301765567\n",
      "p75: 0.3114434803797217\n",
      "p85: 0.43965588060038574\n",
      "p90: 0.49380093372512834\n",
      "p95: 0.5308315100588523\n",
      "N-GRAM: 6\n",
      "Max-diff: 0.5077276548273933\n",
      "min-diff: -0.0017266819891763596\n",
      "avg: 0.22208004985068766\n",
      "p5: 0.012768744007171099\n",
      "p25: 0.06983835561723946\n",
      "median: 0.1856031627236178\n",
      "p75: 0.3566670510253205\n",
      "p85: 0.5077276548273933\n",
      "p90: 0.5077276548273933\n",
      "p95: 0.5077276548273933\n"
     ]
    }
   ],
   "source": [
    "ngrams = [2,3,4,5,6]\n",
    "for n in ngrams:\n",
    "    print(\"N-GRAM: \" + str(n))\n",
    "    jc_matrix = jc_matrices[n]\n",
    "    th_matrix = th_matrices[n]\n",
    "    measure_diff(jc_matrix, th_matrix)"
   ]
  },
  {
   "cell_type": "markdown",
   "metadata": {},
   "source": [
    "## Number of JC candidates vs TH candidates"
   ]
  },
  {
   "cell_type": "code",
   "execution_count": 29,
   "metadata": {},
   "outputs": [],
   "source": [
    "def candidates(matrix, threshold):\n",
    "    pairs = []\n",
    "    for i, row in enumerate(matrix):\n",
    "        for j, el in enumerate(row):\n",
    "            if el > threshold and i != j:\n",
    "                pairs.append((i, j))\n",
    "    return pairs"
   ]
  },
  {
   "cell_type": "code",
   "execution_count": 34,
   "metadata": {
    "scrolled": false
   },
   "outputs": [
    {
     "name": "stdout",
     "output_type": "stream",
     "text": [
      "\n",
      "N-GRAM: 2\n",
      "\n",
      "Threshold: 0.1\n",
      "JC: 281640\n",
      "TH: 167384\n",
      "Threshold: 0.2\n",
      "JC: 215534\n",
      "TH: 59686\n",
      "Threshold: 0.3\n",
      "JC: 176982\n",
      "TH: 15851\n",
      "Threshold: 0.4\n",
      "JC: 140718\n",
      "TH: 4545\n",
      "Threshold: 0.5\n",
      "JC: 111394\n",
      "TH: 2072\n",
      "Threshold: 0.6\n",
      "JC: 88787\n",
      "TH: 1021\n",
      "Threshold: 0.7\n",
      "JC: 67744\n",
      "TH: 453\n",
      "Threshold: 0.8\n",
      "JC: 50823\n",
      "TH: 170\n",
      "Threshold: 0.9\n",
      "JC: 33489\n",
      "TH: 14\n",
      "\n",
      "N-GRAM: 3\n",
      "\n",
      "Threshold: 0.1\n",
      "JC: 37246\n",
      "TH: 32620\n",
      "Threshold: 0.2\n",
      "JC: 26800\n",
      "TH: 16076\n",
      "Threshold: 0.3\n",
      "JC: 17618\n",
      "TH: 10528\n",
      "Threshold: 0.4\n",
      "JC: 13339\n",
      "TH: 6986\n",
      "Threshold: 0.5\n",
      "JC: 10468\n",
      "TH: 4133\n",
      "Threshold: 0.6\n",
      "JC: 8498\n",
      "TH: 1821\n",
      "Threshold: 0.7\n",
      "JC: 6724\n",
      "TH: 740\n",
      "Threshold: 0.8\n",
      "JC: 5703\n",
      "TH: 324\n",
      "Threshold: 0.9\n",
      "JC: 4559\n",
      "TH: 21\n",
      "\n",
      "N-GRAM: 4\n",
      "\n",
      "Threshold: 0.1\n",
      "JC: 18060\n",
      "TH: 16403\n",
      "Threshold: 0.2\n",
      "JC: 13390\n",
      "TH: 10216\n",
      "Threshold: 0.3\n",
      "JC: 10352\n",
      "TH: 7490\n",
      "Threshold: 0.4\n",
      "JC: 8441\n",
      "TH: 5866\n",
      "Threshold: 0.5\n",
      "JC: 7124\n",
      "TH: 4183\n",
      "Threshold: 0.6\n",
      "JC: 6085\n",
      "TH: 2100\n",
      "Threshold: 0.7\n",
      "JC: 5412\n",
      "TH: 1047\n",
      "Threshold: 0.8\n",
      "JC: 4612\n",
      "TH: 446\n",
      "Threshold: 0.9\n",
      "JC: 3924\n",
      "TH: 57\n",
      "\n",
      "N-GRAM: 5\n",
      "\n",
      "Threshold: 0.1\n",
      "JC: 8376\n",
      "TH: 8308\n",
      "Threshold: 0.2\n",
      "JC: 7409\n",
      "TH: 6570\n",
      "Threshold: 0.3\n",
      "JC: 6354\n",
      "TH: 5104\n",
      "Threshold: 0.4\n",
      "JC: 5711\n",
      "TH: 4020\n",
      "Threshold: 0.5\n",
      "JC: 5141\n",
      "TH: 2433\n",
      "Threshold: 0.6\n",
      "JC: 4313\n",
      "TH: 1565\n",
      "Threshold: 0.7\n",
      "JC: 3995\n",
      "TH: 1153\n",
      "Threshold: 0.8\n",
      "JC: 3405\n",
      "TH: 569\n",
      "Threshold: 0.9\n",
      "JC: 3005\n",
      "TH: 41\n",
      "\n",
      "N-GRAM: 6\n",
      "\n",
      "Threshold: 0.1\n",
      "JC: 8332\n",
      "TH: 8082\n",
      "Threshold: 0.2\n",
      "JC: 7133\n",
      "TH: 6612\n",
      "Threshold: 0.3\n",
      "JC: 6477\n",
      "TH: 5544\n",
      "Threshold: 0.4\n",
      "JC: 5731\n",
      "TH: 4537\n",
      "Threshold: 0.5\n",
      "JC: 5108\n",
      "TH: 2574\n",
      "Threshold: 0.6\n",
      "JC: 4638\n",
      "TH: 1546\n",
      "Threshold: 0.7\n",
      "JC: 4219\n",
      "TH: 1092\n",
      "Threshold: 0.8\n",
      "JC: 3859\n",
      "TH: 499\n",
      "Threshold: 0.9\n",
      "JC: 3639\n",
      "TH: 56\n"
     ]
    }
   ],
   "source": [
    "ngrams = [2,3,4,5,6]\n",
    "jc_data = []\n",
    "th_data = []\n",
    "for n in ngrams:\n",
    "    print(\"\")\n",
    "    print(\"N-GRAM: \" + str(n))\n",
    "    print(\"\")\n",
    "    jc_matrix = jc_matrices[n]\n",
    "    th_matrix = th_matrices[n]\n",
    "    jcs = []\n",
    "    ths = []\n",
    "    for th in [0.1, 0.2, 0.3, 0.4, 0.5, 0.6, 0.7, 0.8, 0.9]:\n",
    "        jc_pairs = candidates(jc_matrix, th)  # not counting i,i\n",
    "        th_pairs = candidates(th_matrix, th)\n",
    "        print(\"Threshold: \" + str(th))\n",
    "        print(\"JC: \" + str(len(jc_pairs)))\n",
    "        print(\"TH: \" + str(len(th_pairs)))\n",
    "        jcs.append(len(jc_pairs))\n",
    "        ths.append(len(th_pairs))\n",
    "    jc_data.append(jcs)\n",
    "    th_data.append(ths)"
   ]
  },
  {
   "cell_type": "code",
   "execution_count": 43,
   "metadata": {},
   "outputs": [
    {
     "data": {
      "text/plain": [
       "<matplotlib.legend.Legend at 0x1105b1da0>"
      ]
     },
     "execution_count": 43,
     "metadata": {},
     "output_type": "execute_result"
    },
    {
     "data": {
      "image/png": "[encoded data removed]",
      "text/plain": [
       "<Figure size 432x288 with 1 Axes>"
      ]
     },
     "metadata": {
      "needs_background": "light"
     },
     "output_type": "display_data"
    }
   ],
   "source": [
    "fig, ax = plt.subplots()\n",
    "# plt.ylim((0, 1))\n",
    "# plt.xlim((0, 1))\n",
    "ax.set_xlabel(\"Threshold\")\n",
    "ax.set_ylabel(\"JC\")\n",
    "ax.set_yscale('log')\n",
    "thresholds = [0.1, 0.2, 0.3, 0.4, 0.5, 0.6, 0.7, 0.8, 0.9]\n",
    "ax.plot(thresholds, jc_data[0], 'r--',  thresholds, jc_data[1], 'b--', thresholds, jc_data[2], 'g--', thresholds, jc_data[3], 'rs', thresholds, jc_data[4], 'bs')\n",
    "ax.legend(['2gram', '3gram', '4gram', '5gram', '6gram'])"
   ]
  },
  {
   "cell_type": "code",
   "execution_count": 44,
   "metadata": {},
   "outputs": [
    {
     "data": {
      "text/plain": [
       "<matplotlib.legend.Legend at 0x1127a5860>"
      ]
     },
     "execution_count": 44,
     "metadata": {},
     "output_type": "execute_result"
    },
    {
     "data": {
      "image/png": "[encoded data removed]",
      "text/plain": [
       "<Figure size 432x288 with 1 Axes>"
      ]
     },
     "metadata": {
      "needs_background": "light"
     },
     "output_type": "display_data"
    }
   ],
   "source": [
    "fig, ax = plt.subplots()\n",
    "# plt.ylim((0, 1))\n",
    "# plt.xlim((0, 1))\n",
    "ax.set_xlabel(\"Threshold\")\n",
    "ax.set_ylabel(\"TH\")\n",
    "ax.set_yscale('log')\n",
    "thresholds = [0.1, 0.2, 0.3, 0.4, 0.5, 0.6, 0.7, 0.8, 0.9]\n",
    "ax.plot(thresholds, th_data[0], 'r--',  thresholds, th_data[1], 'b--', thresholds, th_data[2], 'g--', thresholds, th_data[3], 'rs', thresholds, th_data[4], 'bs')\n",
    "ax.legend(['2gram', '3gram', '4gram', '5gram', '6gram'])"
   ]
  },
  {
   "cell_type": "markdown",
   "metadata": {},
   "source": [
    "## Explore some examples manually"
   ]
  },
  {
   "cell_type": "code",
   "execution_count": 57,
   "metadata": {},
   "outputs": [
    {
     "data": {
      "text/plain": [
       "['All_olap_descriptor_types.csv->Descriptor Type ~ All_olap_descriptor_types_2.csv->Descriptor Type',\n",
       " 'Hr_org_unit_new.csv->Hr Org Level2 Name ~ Hr_org_unit_new.csv->Org Hier School Area Name',\n",
       " 'Hr_org_unit_new.csv->Hr Org Level2 Name ~ Hr_org_unit.csv->Org Hier School Area Name',\n",
       " 'Hr_org_unit_new.csv->Hr Org Level2 Name ~ Hr_org_unit.csv->Org Hier Top Level Name']"
      ]
     },
     "execution_count": 57,
     "metadata": {},
     "output_type": "execute_result"
    }
   ],
   "source": [
    "jc_pairs = candidates(jc_matrices[6], 0.9)\n",
    "names = [name_pair(el, n_idmap[6]) for el in jc_pairs[0:4]]\n",
    "names"
   ]
  },
  {
   "cell_type": "code",
   "execution_count": 58,
   "metadata": {},
   "outputs": [
    {
     "data": {
      "text/plain": [
       "['Sdo_units_of_measure.csv->Target Uom Id ~ Sdo_units_of_measure.csv->Uom Id',\n",
       " 'Master_dept_hierarchy.csv->Master Dept Hier Level 3 Code ~ Master_dept_dcode_parent.csv->Parent D Code',\n",
       " 'Sdo_available_elem_ops.csv->Coord Op Id ~ Sdo_available_ops.csv->Coord Op Id',\n",
       " 'All_olap_columns.csv->Owner ~ All_olap_tables.csv->Owner']"
      ]
     },
     "execution_count": 58,
     "metadata": {},
     "output_type": "execute_result"
    }
   ],
   "source": [
    "th_pairs = candidates(th_matrices[6], 0.9)\n",
    "names = [name_pair(el, n_idmap[6]) for el in th_pairs[0:4]]\n",
    "names"
   ]
  },
  {
   "cell_type": "markdown",
   "metadata": {},
   "source": [
    "#### finding names like 'Last Name' of 'Warehouse_users.csv'"
   ]
  },
  {
   "cell_type": "markdown",
   "metadata": {},
   "source": [
    "#### N = 2"
   ]
  },
  {
   "cell_type": "code",
   "execution_count": 73,
   "metadata": {},
   "outputs": [
    {
     "name": "stdout",
     "output_type": "stream",
     "text": [
      "496\n"
     ]
    }
   ],
   "source": [
    "for k, v in n_idmap[2].items():\n",
    "    tokens = v.split(\"->\")\n",
    "    table = tokens[0].strip()\n",
    "    attr = tokens[1].strip()\n",
    "    if table == \"Warehouse_users.csv\" and attr == \"Last Name\":\n",
    "        print(k)"
   ]
  },
  {
   "cell_type": "code",
   "execution_count": 74,
   "metadata": {},
   "outputs": [
    {
     "data": {
      "text/plain": [
       "'Warehouse_users.csv->Last Name'"
      ]
     },
     "execution_count": 74,
     "metadata": {},
     "output_type": "execute_result"
    }
   ],
   "source": [
    "n_idmap[2][496]"
   ]
  },
  {
   "cell_type": "code",
   "execution_count": 81,
   "metadata": {},
   "outputs": [],
   "source": [
    "id_jc = dict()\n",
    "for idx, el in enumerate(jc_matrices[2][496]):\n",
    "    if el > 0:\n",
    "        id_jc[idx] = el"
   ]
  },
  {
   "cell_type": "code",
   "execution_count": 83,
   "metadata": {},
   "outputs": [
    {
     "name": "stdout",
     "output_type": "stream",
     "text": [
      "Warehouse_users.csv -> Last Name containment to:\n",
      "Ir_institution.csv->City is: 0.85914457\n",
      "Warehouse_users.csv->Last Name is: 0.9874631\n",
      "Ir_institution.csv->Institution Name is: 1.0\n",
      "Subject_attribute.csv->Subject Attribute Code is: 0.18141593\n"
     ]
    }
   ],
   "source": [
    "print(\"Warehouse_users.csv -> Last Name containment to:\")\n",
    "for idx, jc in id_jc.items():\n",
    "    print(n_idmap[2][idx] + \" is: \" + str(jc))"
   ]
  },
  {
   "cell_type": "code",
   "execution_count": 84,
   "metadata": {},
   "outputs": [],
   "source": [
    "id_th = dict()\n",
    "for idx, el in enumerate(th_matrices[2][496]):\n",
    "    if el > 0:\n",
    "        id_th[idx] = el"
   ]
  },
  {
   "cell_type": "code",
   "execution_count": 85,
   "metadata": {},
   "outputs": [
    {
     "name": "stdout",
     "output_type": "stream",
     "text": [
      "Warehouse_users.csv -> Last Name containment to:\n",
      "Ir_institution.csv->City is: 0.7301168190017127\n",
      "Warehouse_users.csv->Last Name is: 0.8391642601588811\n",
      "Ir_institution.csv->Institution Name is: 0.8498183478034582\n",
      "Subject_attribute.csv->Subject Attribute Code is: 0.15417058589782784\n"
     ]
    }
   ],
   "source": [
    "print(\"Warehouse_users.csv -> Last Name containment to:\")\n",
    "for idx, th in id_th.items():\n",
    "    print(n_idmap[2][idx] + \" is: \" + str(th))"
   ]
  },
  {
   "cell_type": "markdown",
   "metadata": {},
   "source": [
    "#### N = 4"
   ]
  },
  {
   "cell_type": "code",
   "execution_count": 86,
   "metadata": {},
   "outputs": [
    {
     "name": "stdout",
     "output_type": "stream",
     "text": [
      "496\n"
     ]
    }
   ],
   "source": [
    "for k, v in n_idmap[4].items():\n",
    "    tokens = v.split(\"->\")\n",
    "    table = tokens[0].strip()\n",
    "    attr = tokens[1].strip()\n",
    "    if table == \"Warehouse_users.csv\" and attr == \"Last Name\":\n",
    "        print(k)"
   ]
  },
  {
   "cell_type": "code",
   "execution_count": 87,
   "metadata": {},
   "outputs": [
    {
     "data": {
      "text/plain": [
       "'Warehouse_users.csv->Last Name'"
      ]
     },
     "execution_count": 87,
     "metadata": {},
     "output_type": "execute_result"
    }
   ],
   "source": [
    "n_idmap[4][496]"
   ]
  },
  {
   "cell_type": "code",
   "execution_count": 88,
   "metadata": {},
   "outputs": [],
   "source": [
    "id_jc = dict()\n",
    "for idx, el in enumerate(jc_matrices[4][496]):\n",
    "    if el > 0:\n",
    "        id_jc[idx] = el"
   ]
  },
  {
   "cell_type": "code",
   "execution_count": 89,
   "metadata": {},
   "outputs": [
    {
     "name": "stdout",
     "output_type": "stream",
     "text": [
      "Warehouse_users.csv -> Last Name containment to:\n",
      "short_course_catalog_subject_offered.csv->Fall Instructors is: 0.023802526\n",
      "Field_dictionary_definition.csv->Field Name is: 0.15836866\n",
      "Employee_directory.csv->Last Name is: 0.38056755\n",
      "short_tip_subject_offered.csv->Responsible Faculty Name is: 0.104025856\n",
      "Moira_list.csv->Moira List Name is: 1.0\n",
      "short_subjects_offered.csv->Master Course Number Desc is: 0.012467991\n",
      "Fields.csv->Field Name is: 0.14810461\n",
      "Employee_directory.csv->Full Name is: 0.7326938\n",
      "Roles_fin_pa.csv->Username is: 0.04344906\n",
      "short_subjects_offered.csv->Course Number Desc is: 0.011670375\n",
      "Tip_material.csv->Author is: 0.63389444\n",
      "short_course_catalog_subject_offered.csv->Spring Instructors is: 0.023634609\n",
      "Warehouse_users.csv->Krb Name Uppercase is: 0.7316654\n",
      "Employee_directory.csv->Krb Name is: 0.60213673\n",
      "Ir_institution.csv->City is: 0.34803325\n",
      "Drupal_employee_directory.csv->Email Address is: 0.66626084\n",
      "Employee_directory.csv->Email Address Uppercase is: 0.66401494\n",
      "Employee_directory.csv->Preferred Last Name Upper is: 0.3800848\n",
      "Sis_subject_code.csv->Subject Code Desc is: 0.029973553\n",
      "Employee_directory.csv->Directory Full Name is: 0.73095167\n",
      "Warehouse_users.csv->Last Name is: 0.9871962\n",
      "Drupal_employee_directory.csv->Full Name is: 0.734499\n",
      "Library_course_instructor.csv->Library Course Instructor Key is: 0.1678351\n",
      "Warehouse_users.csv->Email Address is: 0.83031774\n",
      "Mit_student_directory.csv->Email Address is: 0.24150959\n",
      "Iap_subject_detail.csv->Activity Title is: 0.12562445\n",
      "short_course_catalog_subject_offered.csv->Responsible Faculty Name is: 0.04277738\n",
      "Tip_material.csv->Tip Material Key is: 0.44047266\n",
      "Se_person.csv->Krb Name is: 0.58954287\n",
      "Se_person.csv->Full Name is: 0.7604005\n",
      "Library_course_instructor.csv->Instructor Name is: 0.14464128\n",
      "Mit_student_directory.csv->Full Name is: 0.21008773\n",
      "Tip_detail.csv->Tip Material Key is: 0.44047266\n",
      "Mit_student_directory.csv->Full Name Uppercase is: 0.21008773\n",
      "Ir_institution.csv->Institution Name is: 0.5339197\n",
      "Tip_material.csv->Title is: 0.22041476\n",
      "Employee_directory.csv->Email Address is: 0.66401494\n",
      "short_cis_course_catalog.csv->Fall Instructors is: 0.044582512\n",
      "short_cis_course_catalog.csv->Spring Instructors is: 0.04437261\n",
      "Moira_list.csv->Moira List Key is: 1.0\n",
      "Person_auth_area.csv->User Name is: 0.76995087\n",
      "Zip_usa.csv->City Name is: 0.56867886\n",
      "Fields.csv->Definition is: 0.15341505\n",
      "Moira_list.csv->Moira List Description is: 0.8684144\n",
      "Ir_institution.csv->Street Address is: 0.61387014\n",
      "Field_dictionary_definition.csv->Definition is: 0.15547207\n",
      "Iap_subject_detail.csv->Activity Description is: 0.20675033\n",
      "Library_reserve_matrl_detail.csv->Library Course Instructor Key is: 0.1678351\n",
      "Drupal_employee_directory.csv->Last Name is: 0.38132322\n",
      "Warehouse_users.csv->Krb Name is: 0.7316654\n",
      "Se_person.csv->Last Name is: 0.3857101\n",
      "Library_subject_offered.csv->Responsible Faculty Name is: 0.1408841\n",
      "Employee_directory.csv->Krb Name Uppercase is: 0.60213673\n",
      "Employee_directory.csv->Full Name Uppercase is: 0.7326938\n",
      "Mit_student_directory.csv->Last Name is: 0.17948449\n"
     ]
    }
   ],
   "source": [
    "print(\"Warehouse_users.csv -> Last Name containment to:\")\n",
    "for idx, jc in id_jc.items():\n",
    "    print(n_idmap[4][idx] + \" is: \" + str(jc))"
   ]
  },
  {
   "cell_type": "code",
   "execution_count": 92,
   "metadata": {},
   "outputs": [
    {
     "data": {
      "text/plain": [
       "55"
      ]
     },
     "execution_count": 92,
     "metadata": {},
     "output_type": "execute_result"
    }
   ],
   "source": [
    "# candidates at 4\n",
    "len(id_jc)"
   ]
  },
  {
   "cell_type": "code",
   "execution_count": 90,
   "metadata": {},
   "outputs": [],
   "source": [
    "id_th = dict()\n",
    "for idx, el in enumerate(th_matrices[4][496]):\n",
    "    if el > 0:\n",
    "        id_th[idx] = el"
   ]
  },
  {
   "cell_type": "code",
   "execution_count": 91,
   "metadata": {},
   "outputs": [
    {
     "name": "stdout",
     "output_type": "stream",
     "text": [
      "Warehouse_users.csv -> Last Name containment to:\n",
      "short_course_catalog_subject_offered.csv->Fall Instructors is: 0.013754266640399691\n",
      "Field_dictionary_definition.csv->Field Name is: 0.09151317709401098\n",
      "Employee_directory.csv->Last Name is: 0.2199105908920608\n",
      "short_tip_subject_offered.csv->Responsible Faculty Name is: 0.060111240333056336\n",
      "Moira_list.csv->Moira List Name is: 0.577849033350481\n",
      "short_subjects_offered.csv->Master Course Number Desc is: 0.007204616547172496\n",
      "Fields.csv->Field Name is: 0.08558210572324998\n",
      "Employee_directory.csv->Full Name is: 0.4233864040718906\n",
      "Roles_fin_pa.csv->Username is: 0.025106997320987045\n",
      "short_subjects_offered.csv->Course Number Desc is: 0.006743714912587619\n",
      "Tip_material.csv->Author is: 0.3662952894002445\n",
      "short_course_catalog_subject_offered.csv->Spring Instructors is: 0.013657235964266578\n",
      "Warehouse_users.csv->Krb Name Uppercase is: 0.42279214412599303\n",
      "Employee_directory.csv->Krb Name is: 0.34794412737531955\n",
      "Ir_institution.csv->City is: 0.2011106770863263\n",
      "Drupal_employee_directory.csv->Email Address is: 0.3849981823532795\n",
      "Employee_directory.csv->Email Address Uppercase is: 0.3837003912092777\n",
      "Employee_directory.csv->Preferred Last Name Upper is: 0.2196316342712109\n",
      "Sis_subject_code.csv->Subject Code Desc is: 0.01732018862712941\n",
      "Employee_directory.csv->Directory Full Name is: 0.4223797159354198\n",
      "Warehouse_users.csv->Last Name is: 0.570450369897268\n",
      "Drupal_employee_directory.csv->Full Name is: 0.4244295371468949\n",
      "Library_course_instructor.csv->Library Course Instructor Key is: 0.0969833502972813\n",
      "Warehouse_users.csv->Email Address is: 0.47979830343275603\n",
      "Mit_student_directory.csv->Email Address is: 0.139556083126371\n",
      "Iap_subject_detail.csv->Activity Title is: 0.07259196699768583\n",
      "short_course_catalog_subject_offered.csv->Responsible Faculty Name is: 0.024718867682266197\n",
      "Tip_material.csv->Tip Material Key is: 0.2545267007983151\n",
      "Se_person.csv->Krb Name is: 0.34066677754816826\n",
      "Se_person.csv->Full Name is: 0.4393966938842224\n",
      "Library_course_instructor.csv->Instructor Name is: 0.08358082383057626\n",
      "Mit_student_directory.csv->Full Name is: 0.12139899169929684\n",
      "Tip_detail.csv->Tip Material Key is: 0.2545267007983151\n",
      "Mit_student_directory.csv->Full Name Uppercase is: 0.12139899169929684\n",
      "Ir_institution.csv->Institution Name is: 0.3085249825317788\n",
      "Tip_material.csv->Title is: 0.12736645600217825\n",
      "Employee_directory.csv->Email Address is: 0.3837003912092777\n",
      "short_cis_course_catalog.csv->Fall Instructors is: 0.025761961463536216\n",
      "short_cis_course_catalog.csv->Spring Instructors is: 0.025640669795737887\n",
      "Moira_list.csv->Moira List Key is: 0.577849033350481\n",
      "Person_auth_area.csv->User Name is: 0.4449153659568618\n",
      "Zip_usa.csv->City Name is: 0.32861052953785347\n",
      "Fields.csv->Definition is: 0.0886507383439157\n",
      "Moira_list.csv->Moira List Description is: 0.501812421587638\n",
      "Ir_institution.csv->Street Address is: 0.3547242670017244\n",
      "Field_dictionary_definition.csv->Definition is: 0.08983938536249832\n",
      "Iap_subject_detail.csv->Activity Description is: 0.11947047833539295\n",
      "Library_reserve_matrl_detail.csv->Library Course Instructor Key is: 0.0969833502972813\n",
      "Drupal_employee_directory.csv->Last Name is: 0.22034725407109282\n",
      "Warehouse_users.csv->Krb Name is: 0.42279214412599303\n",
      "Se_person.csv->Last Name is: 0.22288220843851736\n",
      "Library_subject_offered.csv->Responsible Faculty Name is: 0.0814097409994525\n",
      "Employee_directory.csv->Krb Name Uppercase is: 0.34794412737531955\n",
      "Employee_directory.csv->Full Name Uppercase is: 0.4233864040718906\n",
      "Mit_student_directory.csv->Last Name is: 0.10371493904790408\n"
     ]
    }
   ],
   "source": [
    "print(\"Warehouse_users.csv -> Last Name containment to:\")\n",
    "for idx, th in id_th.items():\n",
    "    print(n_idmap[4][idx] + \" is: \" + str(th))"
   ]
  },
  {
   "cell_type": "code",
   "execution_count": 93,
   "metadata": {},
   "outputs": [
    {
     "data": {
      "text/plain": [
       "55"
      ]
     },
     "execution_count": 93,
     "metadata": {},
     "output_type": "execute_result"
    }
   ],
   "source": [
    "# candidates at 4\n",
    "len(id_th)"
   ]
  },
  {
   "cell_type": "code",
   "execution_count": null,
   "metadata": {},
   "outputs": [],
   "source": []
  }
 ],
 "metadata": {
  "kernelspec": {
   "display_name": "Python 3",
   "language": "python",
   "name": "python3"
  },
  "language_info": {
   "codemirror_mode": {
    "name": "ipython",
    "version": 3
   },
   "file_extension": ".py",
   "mimetype": "text/x-python",
   "name": "python",
   "nbconvert_exporter": "python",
   "pygments_lexer": "ipython3",
   "version": "3.6.4"
  }
 },
 "nbformat": 4,
 "nbformat_minor": 2
}
